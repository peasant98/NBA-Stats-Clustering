{
 "nbformat": 4,
 "nbformat_minor": 2,
 "metadata": {
  "language_info": {
   "name": "python",
   "codemirror_mode": {
    "name": "ipython",
    "version": 3
   },
   "version": "3.6.9"
  },
  "orig_nbformat": 2,
  "file_extension": ".py",
  "mimetype": "text/x-python",
  "name": "python",
  "npconvert_exporter": "python",
  "pygments_lexer": "ipython3",
  "version": 3
 },
 "cells": [
  {
   "cell_type": "code",
   "execution_count": 1,
   "metadata": {},
   "outputs": [],
   "source": [
    "import numpy as np \n",
    "import pandas as pd\n",
    "# feel free to mess around with the dataframe here."
   ]
  },
  {
   "cell_type": "code",
   "execution_count": 10,
   "metadata": {},
   "outputs": [
    {
     "data": {
      "text/html": "<div>\n<style scoped>\n    .dataframe tbody tr th:only-of-type {\n        vertical-align: middle;\n    }\n\n    .dataframe tbody tr th {\n        vertical-align: top;\n    }\n\n    .dataframe thead th {\n        text-align: right;\n    }\n</style>\n<table border=\"1\" class=\"dataframe\">\n  <thead>\n    <tr style=\"text-align: right;\">\n      <th></th>\n      <th>PlayerID</th>\n      <th>GP</th>\n      <th>PTS</th>\n      <th>AST</th>\n      <th>REB</th>\n      <th>STL</th>\n      <th>BLK</th>\n      <th>TOV</th>\n      <th>FT_PCT</th>\n      <th>FG_PCT</th>\n      <th>FG3_PCT</th>\n      <th>FTA</th>\n    </tr>\n  </thead>\n  <tbody>\n    <tr>\n      <th>0</th>\n      <td>203500</td>\n      <td>12</td>\n      <td>108</td>\n      <td>33</td>\n      <td>106</td>\n      <td>6</td>\n      <td>8</td>\n      <td>18</td>\n      <td>0.387</td>\n      <td>0.552</td>\n      <td>0.000</td>\n      <td>31.0</td>\n    </tr>\n    <tr>\n      <th>1</th>\n      <td>1628389</td>\n      <td>15</td>\n      <td>208</td>\n      <td>64</td>\n      <td>152</td>\n      <td>26</td>\n      <td>19</td>\n      <td>40</td>\n      <td>0.625</td>\n      <td>0.603</td>\n      <td>0.167</td>\n      <td>88.0</td>\n    </tr>\n    <tr>\n      <th>2</th>\n      <td>200746</td>\n      <td>17</td>\n      <td>308</td>\n      <td>42</td>\n      <td>115</td>\n      <td>11</td>\n      <td>30</td>\n      <td>30</td>\n      <td>0.825</td>\n      <td>0.521</td>\n      <td>0.346</td>\n      <td>57.0</td>\n    </tr>\n    <tr>\n      <th>3</th>\n      <td>1629638</td>\n      <td>16</td>\n      <td>103</td>\n      <td>36</td>\n      <td>36</td>\n      <td>5</td>\n      <td>2</td>\n      <td>20</td>\n      <td>0.714</td>\n      <td>0.321</td>\n      <td>0.344</td>\n      <td>14.0</td>\n    </tr>\n    <tr>\n      <th>4</th>\n      <td>1628960</td>\n      <td>5</td>\n      <td>37</td>\n      <td>8</td>\n      <td>10</td>\n      <td>2</td>\n      <td>0</td>\n      <td>7</td>\n      <td>0.833</td>\n      <td>0.314</td>\n      <td>0.263</td>\n      <td>12.0</td>\n    </tr>\n    <tr>\n      <th>...</th>\n      <td>...</td>\n      <td>...</td>\n      <td>...</td>\n      <td>...</td>\n      <td>...</td>\n      <td>...</td>\n      <td>...</td>\n      <td>...</td>\n      <td>...</td>\n      <td>...</td>\n      <td>...</td>\n      <td>...</td>\n    </tr>\n    <tr>\n      <th>497</th>\n      <td>201152</td>\n      <td>17</td>\n      <td>161</td>\n      <td>29</td>\n      <td>73</td>\n      <td>17</td>\n      <td>6</td>\n      <td>26</td>\n      <td>0.609</td>\n      <td>0.405</td>\n      <td>0.302</td>\n      <td>23.0</td>\n    </tr>\n    <tr>\n      <th>498</th>\n      <td>1629027</td>\n      <td>15</td>\n      <td>388</td>\n      <td>130</td>\n      <td>66</td>\n      <td>24</td>\n      <td>1</td>\n      <td>71</td>\n      <td>0.826</td>\n      <td>0.435</td>\n      <td>0.349</td>\n      <td>109.0</td>\n    </tr>\n    <tr>\n      <th>499</th>\n      <td>203469</td>\n      <td>16</td>\n      <td>180</td>\n      <td>21</td>\n      <td>136</td>\n      <td>8</td>\n      <td>6</td>\n      <td>25</td>\n      <td>0.644</td>\n      <td>0.511</td>\n      <td>0.379</td>\n      <td>45.0</td>\n    </tr>\n    <tr>\n      <th>500</th>\n      <td>1627790</td>\n      <td>4</td>\n      <td>24</td>\n      <td>0</td>\n      <td>14</td>\n      <td>1</td>\n      <td>1</td>\n      <td>1</td>\n      <td>0.800</td>\n      <td>0.556</td>\n      <td>0.000</td>\n      <td>5.0</td>\n    </tr>\n    <tr>\n      <th>501</th>\n      <td>1627826</td>\n      <td>17</td>\n      <td>142</td>\n      <td>16</td>\n      <td>120</td>\n      <td>3</td>\n      <td>21</td>\n      <td>16</td>\n      <td>0.780</td>\n      <td>0.598</td>\n      <td>0.000</td>\n      <td>41.0</td>\n    </tr>\n  </tbody>\n</table>\n<p>502 rows × 12 columns</p>\n</div>",
      "text/plain": "     PlayerID  GP  PTS  AST  REB  STL  BLK  TOV  FT_PCT  FG_PCT  FG3_PCT  \\\n0      203500  12  108   33  106    6    8   18   0.387   0.552    0.000   \n1     1628389  15  208   64  152   26   19   40   0.625   0.603    0.167   \n2      200746  17  308   42  115   11   30   30   0.825   0.521    0.346   \n3     1629638  16  103   36   36    5    2   20   0.714   0.321    0.344   \n4     1628960   5   37    8   10    2    0    7   0.833   0.314    0.263   \n..        ...  ..  ...  ...  ...  ...  ...  ...     ...     ...      ...   \n497    201152  17  161   29   73   17    6   26   0.609   0.405    0.302   \n498   1629027  15  388  130   66   24    1   71   0.826   0.435    0.349   \n499    203469  16  180   21  136    8    6   25   0.644   0.511    0.379   \n500   1627790   4   24    0   14    1    1    1   0.800   0.556    0.000   \n501   1627826  17  142   16  120    3   21   16   0.780   0.598    0.000   \n\n       FTA  \n0     31.0  \n1     88.0  \n2     57.0  \n3     14.0  \n4     12.0  \n..     ...  \n497   23.0  \n498  109.0  \n499   45.0  \n500    5.0  \n501   41.0  \n\n[502 rows x 12 columns]"
     },
     "execution_count": 10,
     "metadata": {},
     "output_type": "execute_result"
    }
   ],
   "source": [
    "df = pd.read_csv('data/2019-20_nba_players.csv', index_col=0)\n",
    "df"
   ]
  }
 ]
}